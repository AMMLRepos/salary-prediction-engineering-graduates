{
  "nbformat": 4,
  "nbformat_minor": 0,
  "metadata": {
    "colab": {
      "name": "Engineering Graduates Salary Prediction",
      "provenance": [],
      "authorship_tag": "ABX9TyNvnplT5kaT+O3hlNJXkQPT",
      "include_colab_link": true
    },
    "kernelspec": {
      "name": "python3",
      "display_name": "Python 3"
    },
    "language_info": {
      "name": "python"
    }
  },
  "cells": [
    {
      "cell_type": "markdown",
      "metadata": {
        "id": "view-in-github",
        "colab_type": "text"
      },
      "source": [
        "<a href=\"https://colab.research.google.com/github/AMMLRepos/salary-prediction-engineering-graduates/blob/main/Engineering_Graduates_Salary_Prediction.ipynb\" target=\"_parent\"><img src=\"https://colab.research.google.com/assets/colab-badge.svg\" alt=\"Open In Colab\"/></a>"
      ]
    },
    {
      "cell_type": "markdown",
      "metadata": {
        "id": "4gBlRC2iCAIm"
      },
      "source": [
        "# Objective \n",
        "To predict the salary of Engineering graduates based on the past public data provided by Aspiring Minds Research. \n",
        "\n",
        "# Dataset \n",
        "Dataset is publicly available on [Kaggle](https://www.kaggle.com/manishkc06/engineering-graduate-salary-prediction) and is provided by Aspiring Minds Research.\n",
        "\n",
        "# Data Columns\n",
        "- ID: A unique ID to identify a candidate\n",
        "- Salary: Annual CTC offered to the candidate (in INR)\n",
        "- Gender: Candidate's gender\n",
        "- DOB: Date of birth of the candidate\n",
        "- 10percentage: Overall marks obtained in grade 10 examinations\n",
        "- 10board: The school board whose curriculum the candidate followed in grade 10\n",
        "- 12graduation: Year of graduation - senior year high school\n",
        "- 12percentage: Overall marks obtained in grade 12 examinations\n",
        "- 12board: The school board whose curriculum the candidate followed\n",
        "- CollegeID: Unique ID identifying the university/college which the candidate attended for her/his undergraduate\n",
        "- CollegeTier: Each college has been annotated as 1 or 2. The annotations have been computed from the average AMCAT scores obtained by the students in the college/university. Colleges with an average score above a threshold are tagged as 1 and others as 2.\n",
        "- Degree: Degree obtained/pursued by the candidate\n",
        "- Specialization: Specialization pursued by the candidate\n",
        "- CollegeGPA: Aggregate GPA at graduation\n",
        "- CollegeCityID: A unique ID to identify the city in which the college is located in.\n",
        "- CollegeCityTier: The tier of the city in which the college is located in. This is annotated based on the population of the cities.\n",
        "- CollegeState: Name of the state in which the college is located\n",
        "- GraduationYear: Year of graduation (Bachelor's degree)\n",
        "- English: Scores in AMCAT English section\n",
        "- Logical: Score in AMCAT Logical ability section\n",
        "- Quant: Score in AMCAT's Quantitative ability section\n",
        "- Domain: Scores in AMCAT's domain module\n",
        "- ComputerProgramming: Score in AMCAT's Computer programming section\n",
        "- ElectronicsAndSemicon: Score in AMCAT's Electronics & Semiconductor Engineering section\n",
        "- ComputerScience: Score in AMCAT's Computer Science section\n",
        "- MechanicalEngg: Score in AMCAT's Mechanical Engineering section\n",
        "- ElectricalEngg: Score in AMCAT's Electrical Engineering section\n",
        "- TelecomEngg: Score in AMCAT's Telecommunication Engineering section\n",
        "- CivilEngg: Score in AMCAT's Civil Engineering section\n",
        "- conscientiousness: Scores in one of the sections of AMCAT's personality test\n",
        "- agreeableness: Scores in one of the sections of AMCAT's personality test\n",
        "- extraversion: Scores in one of the sections of AMCAT's personality test\n",
        "- nueroticism: Scores in one of the sections of AMCAT's personality test\n",
        "- openesstoexperience: Scores in one of the sections of AMCAT's personality test\n",
        "\n",
        "# Activities to perform \n",
        "- Install and Import required libraries \n",
        "- Download dataset \n",
        "- Load data to Python pandas \n",
        "- Perform Exploratory Data Analysis \n",
        "- Perform Data Preparation \n",
        "- Perform Data seperation into train, test and validation sets\n",
        "- Train Model \n",
        "- Evaluate Model\n",
        "- Improve Model"
      ]
    },
    {
      "cell_type": "markdown",
      "metadata": {
        "id": "NevLWjeZFgOs"
      },
      "source": [
        "## Install and import required libraries\n",
        "Install [opendatasets](https://github.com/JovianML/opendatasets) library which is an opensource library developed by [Team Jovian](https://jovian.ai) for downloading Kaggle datasets.\n",
        "We need not to install other libraries as they are already provided as a part of Google Colab runtime."
      ]
    },
    {
      "cell_type": "code",
      "metadata": {
        "id": "MpmJWAQHFyQ2"
      },
      "source": [
        "!pip install opendatasets --quiet"
      ],
      "execution_count": 3,
      "outputs": []
    },
    {
      "cell_type": "code",
      "metadata": {
        "id": "y0DjntI7B7WU"
      },
      "source": [
        "import pandas as pd\n",
        "import numpy as np\n",
        "import matplotlib.pyplot as plt\n",
        "import matplotlib\n",
        "import seaborn as sns\n",
        "import opendatasets as od\n",
        "import os"
      ],
      "execution_count": 11,
      "outputs": []
    },
    {
      "cell_type": "markdown",
      "metadata": {
        "id": "r70ZgDWKGX3c"
      },
      "source": [
        "Set us basic styling guidelines for Google colab"
      ]
    },
    {
      "cell_type": "code",
      "metadata": {
        "colab": {
          "base_uri": "https://localhost:8080/"
        },
        "id": "QkBgovyXFp-h",
        "outputId": "153cab5c-2361-4ae1-c44e-d906749e8d8a"
      },
      "source": [
        "%matplotlib inline\n",
        "\n",
        "pd.set_option('display.max_columns', None)\n",
        "pd.set_option('display.max_rows', 150)\n",
        "sns.set_style('darkgrid')\n",
        "pd.set_option('display.width', 1000)\n",
        "matplotlib.rcParams['font.size'] = 14\n",
        "matplotlib.rcParams['figure.figsize'] = (10, 6)\n",
        "matplotlib.rcParams['figure.facecolor'] = '#00000000'\n",
        "%load_ext google.colab.data_table"
      ],
      "execution_count": 28,
      "outputs": [
        {
          "output_type": "stream",
          "name": "stdout",
          "text": [
            "The google.colab.data_table extension is already loaded. To reload it, use:\n",
            "  %reload_ext google.colab.data_table\n"
          ]
        }
      ]
    },
    {
      "cell_type": "markdown",
      "metadata": {
        "id": "ZrB59pdJGm4E"
      },
      "source": [
        "## Download the dataset "
      ]
    },
    {
      "cell_type": "code",
      "metadata": {
        "colab": {
          "base_uri": "https://localhost:8080/"
        },
        "id": "bNsHk0ctGonl",
        "outputId": "4baf9b3a-26e2-49b7-af7d-6db7b1d9212f"
      },
      "source": [
        "dataset_url = \"https://www.kaggle.com/manishkc06/engineering-graduate-salary-prediction\"\n",
        "od.download(dataset_url)"
      ],
      "execution_count": 29,
      "outputs": [
        {
          "output_type": "stream",
          "name": "stdout",
          "text": [
            "Skipping, found downloaded files in \"./engineering-graduate-salary-prediction\" (use force=True to force download)\n"
          ]
        }
      ]
    },
    {
      "cell_type": "code",
      "metadata": {
        "colab": {
          "base_uri": "https://localhost:8080/"
        },
        "id": "I3u6iPu_G2-U",
        "outputId": "e97ceb46-552e-4b5f-aa27-31ce75002e7c"
      },
      "source": [
        "data_dir = \"./engineering-graduate-salary-prediction\"\n",
        "datafile = os.listdir(data_dir)[0]\n",
        "\n",
        "filepath = data_dir + \"/\" + datafile\n",
        "print(filepath)"
      ],
      "execution_count": 30,
      "outputs": [
        {
          "output_type": "stream",
          "name": "stdout",
          "text": [
            "./engineering-graduate-salary-prediction/Engineering_graduate_salary.csv\n"
          ]
        }
      ]
    },
    {
      "cell_type": "markdown",
      "metadata": {
        "id": "YjE013VnHKvM"
      },
      "source": [
        "## Load data into Python pandas"
      ]
    },
    {
      "cell_type": "code",
      "metadata": {
        "colab": {
          "base_uri": "https://localhost:8080/"
        },
        "id": "oiW2bw-jHM-0",
        "outputId": "813aa3ec-4549-4a71-bb92-4baf449f9400"
      },
      "source": [
        "engineering_df = pd.read_csv(filepath)\n",
        "print(engineering_df)"
      ],
      "execution_count": 31,
      "outputs": [
        {
          "output_type": "stream",
          "name": "stdout",
          "text": [
            "          ID Gender         DOB  10percentage                       10board  12graduation  12percentage                    12board  CollegeID  CollegeTier       Degree                             Specialization  collegeGPA  CollegeCityID  CollegeCityTier    CollegeState  GraduationYear  English  Logical  Quant    Domain  ComputerProgramming  ElectronicsAndSemicon  ComputerScience  MechanicalEngg  ElectricalEngg  TelecomEngg  CivilEngg  conscientiousness  agreeableness  extraversion  nueroticism  openess_to_experience  Salary\n",
            "0     604399      f  1990-10-22         87.80                          cbse          2009         84.00                       cbse       6920            1  B.Tech/B.E.    instrumentation and control engineering       73.82           6920                1           Delhi            2013      650      665    810  0.694479                  485                    366               -1              -1              -1           -1         -1            -0.1590         0.3789        1.2396      0.14590                 0.2889  445000\n",
            "1     988334      m  1990-05-15         57.00                          cbse          2010         64.50                       cbse       6624            2  B.Tech/B.E.             computer science & engineering       65.00           6624                0   Uttar Pradesh            2014      440      435    210  0.342315                  365                     -1               -1              -1              -1           -1         -1             1.1336         0.0459        1.2396      0.52620                -0.2859  110000\n",
            "2     301647      m  1989-08-21         77.33  maharashtra state board,pune          2007         85.17  amravati divisional board       9084            2  B.Tech/B.E.           electronics & telecommunications       61.94           9084                0     Maharashtra            2011      485      475    505  0.824666                   -1                    400               -1              -1              -1          260         -1             0.5100        -0.1232        1.5428     -0.29020                -0.2875  255000\n",
            "3     582313      m  1991-05-04         84.30                          cbse          2009         86.00                       cbse       8195            1  B.Tech/B.E.             computer science & engineering       80.40           8195                1           Delhi            2013      675      620    635  0.990009                  655                     -1               -1              -1              -1           -1         -1            -0.4463         0.2124        0.3174      0.27270                 0.4805  420000\n",
            "4     339001      f  1990-10-30         82.00                          cbse          2008         75.00                       cbse       4889            2  B.Tech/B.E.                              biotechnology       64.30           4889                1      Tamil Nadu            2012      575      495    365  0.278457                  315                     -1               -1              -1              -1           -1         -1            -1.4992        -0.7473       -1.0697      0.06223                 0.1864  200000\n",
            "...      ...    ...         ...           ...                           ...           ...           ...                        ...        ...          ...          ...                                        ...         ...            ...              ...             ...             ...      ...      ...    ...       ...                  ...                    ...              ...             ...             ...          ...        ...                ...            ...           ...          ...                    ...     ...\n",
            "2993  103174      f  1989-04-17         75.00                             0          2005         73.00                          0       1263            2  B.Tech/B.E.  electronics and communication engineering       70.00           1263                1      Tamil Nadu            2010      505      485    445  0.538387                  245                    333               -1              -1              -1           -1         -1            -1.1901         0.9688       -1.0697      1.35490                 0.0284  120000\n",
            "2994  352811      f  1991-07-22         84.00                   state board          2008         77.00                state board       9481            2  B.Tech/B.E.                     information technology       75.20           9481                0      Tamil Nadu            2012      345      585    395  0.190153                  315                     -1               -1              -1              -1           -1         -1            -0.1082         0.0328       -0.4891     -0.29020                 0.5024  120000\n",
            "2995  287070      m  1988-11-24         91.40                         bsemp          2006         65.56                      bsemp        547            2  B.Tech/B.E.                     information technology       73.19            547                0  Madhya Pradesh            2011      385      425    485  0.600057                  435                     -1               -1              -1              -1           -1         -1            -0.8810         0.1888       -0.3440      0.06230                 0.6603  385000\n",
            "2996  317336      m  1988-08-25         88.64     karnataka education board          2006         65.16  karnataka education board       1629            2  B.Tech/B.E.                       computer engineering       74.81           1629                1       Karnataka            2011      465      645    505  0.901490                  545                     -1               -1              -1              -1           -1         -1             1.4374         1.2808       -0.4891     -1.46537                 0.5419  530000\n",
            "2997  993701      m  1992-05-27         77.00                   state board          2009         75.50                state board       1111            2  B.Tech/B.E.                     information technology       69.30           1111                0      Tamil Nadu            2013      370      390    285  0.486747                  315                     -1              376              -1              -1           -1         -1            -0.5899        -1.9521        0.3174      1.16010                -2.3937  200000\n",
            "\n",
            "[2998 rows x 34 columns]\n"
          ]
        }
      ]
    },
    {
      "cell_type": "markdown",
      "metadata": {
        "id": "ag4ToPNCISBW"
      },
      "source": [
        "## Perform Exploratory Data Analysis\n",
        "As a part of EDA, let us get following - \n",
        "- Basic meta information on the dataset \n",
        "- Plot visualizations to understand how features are correlated \n",
        "- Get the correlation matrix \n",
        "- Plot the heatmap of correlation matrix "
      ]
    },
    {
      "cell_type": "code",
      "metadata": {
        "colab": {
          "base_uri": "https://localhost:8080/"
        },
        "id": "fpj3cgzNIoaM",
        "outputId": "544b50ac-78e7-4fef-ed72-00eedd760947"
      },
      "source": [
        "engineering_df.info()"
      ],
      "execution_count": 32,
      "outputs": [
        {
          "output_type": "stream",
          "name": "stdout",
          "text": [
            "<class 'pandas.core.frame.DataFrame'>\n",
            "RangeIndex: 2998 entries, 0 to 2997\n",
            "Data columns (total 34 columns):\n",
            " #   Column                 Non-Null Count  Dtype  \n",
            "---  ------                 --------------  -----  \n",
            " 0   ID                     2998 non-null   int64  \n",
            " 1   Gender                 2998 non-null   object \n",
            " 2   DOB                    2998 non-null   object \n",
            " 3   10percentage           2998 non-null   float64\n",
            " 4   10board                2998 non-null   object \n",
            " 5   12graduation           2998 non-null   int64  \n",
            " 6   12percentage           2998 non-null   float64\n",
            " 7   12board                2998 non-null   object \n",
            " 8   CollegeID              2998 non-null   int64  \n",
            " 9   CollegeTier            2998 non-null   int64  \n",
            " 10  Degree                 2998 non-null   object \n",
            " 11  Specialization         2998 non-null   object \n",
            " 12  collegeGPA             2998 non-null   float64\n",
            " 13  CollegeCityID          2998 non-null   int64  \n",
            " 14  CollegeCityTier        2998 non-null   int64  \n",
            " 15  CollegeState           2998 non-null   object \n",
            " 16  GraduationYear         2998 non-null   int64  \n",
            " 17  English                2998 non-null   int64  \n",
            " 18  Logical                2998 non-null   int64  \n",
            " 19  Quant                  2998 non-null   int64  \n",
            " 20  Domain                 2998 non-null   float64\n",
            " 21  ComputerProgramming    2998 non-null   int64  \n",
            " 22  ElectronicsAndSemicon  2998 non-null   int64  \n",
            " 23  ComputerScience        2998 non-null   int64  \n",
            " 24  MechanicalEngg         2998 non-null   int64  \n",
            " 25  ElectricalEngg         2998 non-null   int64  \n",
            " 26  TelecomEngg            2998 non-null   int64  \n",
            " 27  CivilEngg              2998 non-null   int64  \n",
            " 28  conscientiousness      2998 non-null   float64\n",
            " 29  agreeableness          2998 non-null   float64\n",
            " 30  extraversion           2998 non-null   float64\n",
            " 31  nueroticism            2998 non-null   float64\n",
            " 32  openess_to_experience  2998 non-null   float64\n",
            " 33  Salary                 2998 non-null   int64  \n",
            "dtypes: float64(9), int64(18), object(7)\n",
            "memory usage: 796.5+ KB\n"
          ]
        }
      ]
    },
    {
      "cell_type": "markdown",
      "metadata": {
        "id": "UKjCAQOLIthD"
      },
      "source": [
        "- We have 34 columns with 2998 rows and datatypes of int, fload, and string(object) types\n",
        "- We have 796 KB of data \n",
        "\n"
      ]
    },
    {
      "cell_type": "markdown",
      "metadata": {
        "id": "fv7VMas4I-yb"
      },
      "source": [
        "Let us get the basic statistics of the numerical columns we have in our dataset using describe()"
      ]
    },
    {
      "cell_type": "code",
      "metadata": {
        "colab": {
          "base_uri": "https://localhost:8080/",
          "height": 314
        },
        "id": "J_X8-Y9FI7Mb",
        "outputId": "0ef7e4d1-05c1-4874-fa41-6f1cec01c038"
      },
      "source": [
        "engineering_df.describe()"
      ],
      "execution_count": 33,
      "outputs": [
        {
          "output_type": "execute_result",
          "data": {
            "text/html": [
              "<div>\n",
              "<style scoped>\n",
              "    .dataframe tbody tr th:only-of-type {\n",
              "        vertical-align: middle;\n",
              "    }\n",
              "\n",
              "    .dataframe tbody tr th {\n",
              "        vertical-align: top;\n",
              "    }\n",
              "\n",
              "    .dataframe thead th {\n",
              "        text-align: right;\n",
              "    }\n",
              "</style>\n",
              "<table border=\"1\" class=\"dataframe\">\n",
              "  <thead>\n",
              "    <tr style=\"text-align: right;\">\n",
              "      <th></th>\n",
              "      <th>ID</th>\n",
              "      <th>10percentage</th>\n",
              "      <th>12graduation</th>\n",
              "      <th>12percentage</th>\n",
              "      <th>CollegeID</th>\n",
              "      <th>CollegeTier</th>\n",
              "      <th>collegeGPA</th>\n",
              "      <th>CollegeCityID</th>\n",
              "      <th>CollegeCityTier</th>\n",
              "      <th>GraduationYear</th>\n",
              "      <th>English</th>\n",
              "      <th>Logical</th>\n",
              "      <th>Quant</th>\n",
              "      <th>Domain</th>\n",
              "      <th>ComputerProgramming</th>\n",
              "      <th>ElectronicsAndSemicon</th>\n",
              "      <th>ComputerScience</th>\n",
              "      <th>MechanicalEngg</th>\n",
              "      <th>ElectricalEngg</th>\n",
              "      <th>TelecomEngg</th>\n",
              "      <th>CivilEngg</th>\n",
              "      <th>conscientiousness</th>\n",
              "      <th>agreeableness</th>\n",
              "      <th>extraversion</th>\n",
              "      <th>nueroticism</th>\n",
              "      <th>openess_to_experience</th>\n",
              "      <th>Salary</th>\n",
              "    </tr>\n",
              "  </thead>\n",
              "  <tbody>\n",
              "    <tr>\n",
              "      <th>count</th>\n",
              "      <td>2.998000e+03</td>\n",
              "      <td>2998.000000</td>\n",
              "      <td>2998.000000</td>\n",
              "      <td>2998.000000</td>\n",
              "      <td>2998.000000</td>\n",
              "      <td>2998.000000</td>\n",
              "      <td>2998.000000</td>\n",
              "      <td>2998.000000</td>\n",
              "      <td>2998.000000</td>\n",
              "      <td>2998.000000</td>\n",
              "      <td>2998.000000</td>\n",
              "      <td>2998.000000</td>\n",
              "      <td>2998.000000</td>\n",
              "      <td>2998.000000</td>\n",
              "      <td>2998.000000</td>\n",
              "      <td>2998.000000</td>\n",
              "      <td>2998.000000</td>\n",
              "      <td>2998.000000</td>\n",
              "      <td>2998.000000</td>\n",
              "      <td>2998.000000</td>\n",
              "      <td>2998.000000</td>\n",
              "      <td>2998.000000</td>\n",
              "      <td>2998.000000</td>\n",
              "      <td>2998.000000</td>\n",
              "      <td>2998.000000</td>\n",
              "      <td>2998.000000</td>\n",
              "      <td>2.998000e+03</td>\n",
              "    </tr>\n",
              "    <tr>\n",
              "      <th>mean</th>\n",
              "      <td>6.648926e+05</td>\n",
              "      <td>77.666264</td>\n",
              "      <td>2008.080720</td>\n",
              "      <td>74.341061</td>\n",
              "      <td>5210.210807</td>\n",
              "      <td>1.924616</td>\n",
              "      <td>71.509857</td>\n",
              "      <td>5210.210807</td>\n",
              "      <td>0.296197</td>\n",
              "      <td>2011.939960</td>\n",
              "      <td>501.066378</td>\n",
              "      <td>500.431621</td>\n",
              "      <td>514.137759</td>\n",
              "      <td>0.508458</td>\n",
              "      <td>351.868579</td>\n",
              "      <td>96.228152</td>\n",
              "      <td>94.147098</td>\n",
              "      <td>24.138759</td>\n",
              "      <td>16.267845</td>\n",
              "      <td>31.068379</td>\n",
              "      <td>1.946965</td>\n",
              "      <td>-0.038714</td>\n",
              "      <td>0.126217</td>\n",
              "      <td>-0.008662</td>\n",
              "      <td>-0.145965</td>\n",
              "      <td>-0.141111</td>\n",
              "      <td>3.051748e+05</td>\n",
              "    </tr>\n",
              "    <tr>\n",
              "      <th>std</th>\n",
              "      <td>3.648951e+05</td>\n",
              "      <td>10.002785</td>\n",
              "      <td>1.631814</td>\n",
              "      <td>11.120299</td>\n",
              "      <td>4776.609877</td>\n",
              "      <td>0.264053</td>\n",
              "      <td>8.122462</td>\n",
              "      <td>4776.609877</td>\n",
              "      <td>0.456655</td>\n",
              "      <td>36.780582</td>\n",
              "      <td>105.304512</td>\n",
              "      <td>87.299850</td>\n",
              "      <td>122.194955</td>\n",
              "      <td>0.463373</td>\n",
              "      <td>204.526227</td>\n",
              "      <td>158.737747</td>\n",
              "      <td>177.784536</td>\n",
              "      <td>99.785138</td>\n",
              "      <td>86.054739</td>\n",
              "      <td>103.552963</td>\n",
              "      <td>32.241501</td>\n",
              "      <td>1.024974</td>\n",
              "      <td>0.955831</td>\n",
              "      <td>0.962695</td>\n",
              "      <td>1.012901</td>\n",
              "      <td>1.007134</td>\n",
              "      <td>2.123312e+05</td>\n",
              "    </tr>\n",
              "    <tr>\n",
              "      <th>min</th>\n",
              "      <td>1.124400e+04</td>\n",
              "      <td>43.000000</td>\n",
              "      <td>1998.000000</td>\n",
              "      <td>40.000000</td>\n",
              "      <td>2.000000</td>\n",
              "      <td>1.000000</td>\n",
              "      <td>6.630000</td>\n",
              "      <td>2.000000</td>\n",
              "      <td>0.000000</td>\n",
              "      <td>0.000000</td>\n",
              "      <td>180.000000</td>\n",
              "      <td>195.000000</td>\n",
              "      <td>120.000000</td>\n",
              "      <td>-1.000000</td>\n",
              "      <td>-1.000000</td>\n",
              "      <td>-1.000000</td>\n",
              "      <td>-1.000000</td>\n",
              "      <td>-1.000000</td>\n",
              "      <td>-1.000000</td>\n",
              "      <td>-1.000000</td>\n",
              "      <td>-1.000000</td>\n",
              "      <td>-3.893300</td>\n",
              "      <td>-5.781600</td>\n",
              "      <td>-4.600900</td>\n",
              "      <td>-2.643000</td>\n",
              "      <td>-7.375700</td>\n",
              "      <td>3.500000e+04</td>\n",
              "    </tr>\n",
              "    <tr>\n",
              "      <th>25%</th>\n",
              "      <td>3.334648e+05</td>\n",
              "      <td>71.140000</td>\n",
              "      <td>2007.000000</td>\n",
              "      <td>66.000000</td>\n",
              "      <td>526.250000</td>\n",
              "      <td>2.000000</td>\n",
              "      <td>66.530000</td>\n",
              "      <td>526.250000</td>\n",
              "      <td>0.000000</td>\n",
              "      <td>2012.000000</td>\n",
              "      <td>425.000000</td>\n",
              "      <td>441.250000</td>\n",
              "      <td>430.000000</td>\n",
              "      <td>0.342315</td>\n",
              "      <td>295.000000</td>\n",
              "      <td>-1.000000</td>\n",
              "      <td>-1.000000</td>\n",
              "      <td>-1.000000</td>\n",
              "      <td>-1.000000</td>\n",
              "      <td>-1.000000</td>\n",
              "      <td>-1.000000</td>\n",
              "      <td>-0.649100</td>\n",
              "      <td>-0.435300</td>\n",
              "      <td>-0.604800</td>\n",
              "      <td>-0.868200</td>\n",
              "      <td>-0.669200</td>\n",
              "      <td>1.800000e+05</td>\n",
              "    </tr>\n",
              "    <tr>\n",
              "      <th>50%</th>\n",
              "      <td>6.396945e+05</td>\n",
              "      <td>78.965000</td>\n",
              "      <td>2008.000000</td>\n",
              "      <td>74.000000</td>\n",
              "      <td>4027.500000</td>\n",
              "      <td>2.000000</td>\n",
              "      <td>71.800000</td>\n",
              "      <td>4027.500000</td>\n",
              "      <td>0.000000</td>\n",
              "      <td>2013.000000</td>\n",
              "      <td>500.000000</td>\n",
              "      <td>505.000000</td>\n",
              "      <td>515.000000</td>\n",
              "      <td>0.622643</td>\n",
              "      <td>415.000000</td>\n",
              "      <td>-1.000000</td>\n",
              "      <td>-1.000000</td>\n",
              "      <td>-1.000000</td>\n",
              "      <td>-1.000000</td>\n",
              "      <td>-1.000000</td>\n",
              "      <td>-1.000000</td>\n",
              "      <td>0.046400</td>\n",
              "      <td>0.212400</td>\n",
              "      <td>0.091400</td>\n",
              "      <td>-0.172700</td>\n",
              "      <td>-0.094300</td>\n",
              "      <td>3.000000e+05</td>\n",
              "    </tr>\n",
              "    <tr>\n",
              "      <th>75%</th>\n",
              "      <td>9.951770e+05</td>\n",
              "      <td>85.600000</td>\n",
              "      <td>2009.000000</td>\n",
              "      <td>82.600000</td>\n",
              "      <td>8822.250000</td>\n",
              "      <td>2.000000</td>\n",
              "      <td>76.300000</td>\n",
              "      <td>8822.250000</td>\n",
              "      <td>1.000000</td>\n",
              "      <td>2014.000000</td>\n",
              "      <td>570.000000</td>\n",
              "      <td>565.000000</td>\n",
              "      <td>595.000000</td>\n",
              "      <td>0.835612</td>\n",
              "      <td>495.000000</td>\n",
              "      <td>233.000000</td>\n",
              "      <td>-1.000000</td>\n",
              "      <td>-1.000000</td>\n",
              "      <td>-1.000000</td>\n",
              "      <td>-1.000000</td>\n",
              "      <td>-1.000000</td>\n",
              "      <td>0.702700</td>\n",
              "      <td>0.812800</td>\n",
              "      <td>0.672000</td>\n",
              "      <td>0.526200</td>\n",
              "      <td>0.502400</td>\n",
              "      <td>3.700000e+05</td>\n",
              "    </tr>\n",
              "    <tr>\n",
              "      <th>max</th>\n",
              "      <td>1.297877e+06</td>\n",
              "      <td>97.760000</td>\n",
              "      <td>2012.000000</td>\n",
              "      <td>98.700000</td>\n",
              "      <td>18409.000000</td>\n",
              "      <td>2.000000</td>\n",
              "      <td>99.930000</td>\n",
              "      <td>18409.000000</td>\n",
              "      <td>1.000000</td>\n",
              "      <td>2017.000000</td>\n",
              "      <td>875.000000</td>\n",
              "      <td>795.000000</td>\n",
              "      <td>900.000000</td>\n",
              "      <td>0.999910</td>\n",
              "      <td>804.000000</td>\n",
              "      <td>612.000000</td>\n",
              "      <td>715.000000</td>\n",
              "      <td>623.000000</td>\n",
              "      <td>660.000000</td>\n",
              "      <td>548.000000</td>\n",
              "      <td>500.000000</td>\n",
              "      <td>1.995300</td>\n",
              "      <td>1.904800</td>\n",
              "      <td>2.161700</td>\n",
              "      <td>3.352500</td>\n",
              "      <td>1.630200</td>\n",
              "      <td>4.000000e+06</td>\n",
              "    </tr>\n",
              "  </tbody>\n",
              "</table>\n",
              "</div>"
            ],
            "text/plain": [
              "                 ID  10percentage  12graduation  12percentage     CollegeID  CollegeTier   collegeGPA  CollegeCityID  CollegeCityTier  GraduationYear      English      Logical        Quant       Domain  ComputerProgramming  ElectronicsAndSemicon  ComputerScience  MechanicalEngg  ElectricalEngg  TelecomEngg    CivilEngg  conscientiousness  agreeableness  extraversion  nueroticism  openess_to_experience        Salary\n",
              "count  2.998000e+03   2998.000000   2998.000000   2998.000000   2998.000000  2998.000000  2998.000000    2998.000000      2998.000000     2998.000000  2998.000000  2998.000000  2998.000000  2998.000000          2998.000000            2998.000000      2998.000000     2998.000000     2998.000000  2998.000000  2998.000000        2998.000000    2998.000000   2998.000000  2998.000000            2998.000000  2.998000e+03\n",
              "mean   6.648926e+05     77.666264   2008.080720     74.341061   5210.210807     1.924616    71.509857    5210.210807         0.296197     2011.939960   501.066378   500.431621   514.137759     0.508458           351.868579              96.228152        94.147098       24.138759       16.267845    31.068379     1.946965          -0.038714       0.126217     -0.008662    -0.145965              -0.141111  3.051748e+05\n",
              "std    3.648951e+05     10.002785      1.631814     11.120299   4776.609877     0.264053     8.122462    4776.609877         0.456655       36.780582   105.304512    87.299850   122.194955     0.463373           204.526227             158.737747       177.784536       99.785138       86.054739   103.552963    32.241501           1.024974       0.955831      0.962695     1.012901               1.007134  2.123312e+05\n",
              "min    1.124400e+04     43.000000   1998.000000     40.000000      2.000000     1.000000     6.630000       2.000000         0.000000        0.000000   180.000000   195.000000   120.000000    -1.000000            -1.000000              -1.000000        -1.000000       -1.000000       -1.000000    -1.000000    -1.000000          -3.893300      -5.781600     -4.600900    -2.643000              -7.375700  3.500000e+04\n",
              "25%    3.334648e+05     71.140000   2007.000000     66.000000    526.250000     2.000000    66.530000     526.250000         0.000000     2012.000000   425.000000   441.250000   430.000000     0.342315           295.000000              -1.000000        -1.000000       -1.000000       -1.000000    -1.000000    -1.000000          -0.649100      -0.435300     -0.604800    -0.868200              -0.669200  1.800000e+05\n",
              "50%    6.396945e+05     78.965000   2008.000000     74.000000   4027.500000     2.000000    71.800000    4027.500000         0.000000     2013.000000   500.000000   505.000000   515.000000     0.622643           415.000000              -1.000000        -1.000000       -1.000000       -1.000000    -1.000000    -1.000000           0.046400       0.212400      0.091400    -0.172700              -0.094300  3.000000e+05\n",
              "75%    9.951770e+05     85.600000   2009.000000     82.600000   8822.250000     2.000000    76.300000    8822.250000         1.000000     2014.000000   570.000000   565.000000   595.000000     0.835612           495.000000             233.000000        -1.000000       -1.000000       -1.000000    -1.000000    -1.000000           0.702700       0.812800      0.672000     0.526200               0.502400  3.700000e+05\n",
              "max    1.297877e+06     97.760000   2012.000000     98.700000  18409.000000     2.000000    99.930000   18409.000000         1.000000     2017.000000   875.000000   795.000000   900.000000     0.999910           804.000000             612.000000       715.000000      623.000000      660.000000   548.000000   500.000000           1.995300       1.904800      2.161700     3.352500               1.630200  4.000000e+06"
            ]
          },
          "metadata": {},
          "execution_count": 33
        }
      ]
    },
    {
      "cell_type": "markdown",
      "metadata": {
        "id": "n5lvvRhQJEyz"
      },
      "source": [
        "As shown in the output above, we have - \n",
        "- Max values for each numerical column\n",
        "- Min value for each numerical column \n",
        "- Range of min and max \n",
        "- Average/mean \n",
        "- Standard deviation \n"
      ]
    },
    {
      "cell_type": "markdown",
      "metadata": {
        "id": "ZGJgvCDiJrKz"
      },
      "source": [
        "Let us now draw some visualizations to understand the patterns in the data "
      ]
    },
    {
      "cell_type": "code",
      "metadata": {
        "colab": {
          "base_uri": "https://localhost:8080/",
          "height": 378
        },
        "id": "7c6_2vObJ6Qp",
        "outputId": "110490a2-2e30-49c6-e394-a25ac5bf0317"
      },
      "source": [
        "sns.relplot(x = \"12percentage\", y = \"Salary\", data = engineering_df);"
      ],
      "execution_count": 38,
      "outputs": [
        {
          "output_type": "display_data",
          "data": {
            "image/png": "[encoded data removed]",
            "text/plain": [
              "<Figure size 360x360 with 1 Axes>"
            ]
          },
          "metadata": {
            "needs_background": "light"
          }
        }
      ]
    },
    {
      "cell_type": "code",
      "metadata": {
        "colab": {
          "base_uri": "https://localhost:8080/",
          "height": 378
        },
        "id": "gSCnxLyCLc_0",
        "outputId": "d8739704-9235-4cc4-92c2-398a16c18adb"
      },
      "source": [
        "sns.relplot(x = \"collegeGPA\", y = \"Salary\", data = engineering_df);"
      ],
      "execution_count": 41,
      "outputs": [
        {
          "output_type": "display_data",
          "data": {
            "image/png": "[encoded data removed]",
            "text/plain": [
              "<Figure size 360x360 with 1 Axes>"
            ]
          },
          "metadata": {
            "needs_background": "light"
          }
        }
      ]
    },
    {
      "cell_type": "code",
      "metadata": {
        "colab": {
          "base_uri": "https://localhost:8080/",
          "height": 378
        },
        "id": "dPpHGmrUL4js",
        "outputId": "272c0148-1854-49f4-87d6-d22e9ab1d24d"
      },
      "source": [
        "sns.relplot(x = \"English\", y = \"Salary\", data = engineering_df);"
      ],
      "execution_count": 42,
      "outputs": [
        {
          "output_type": "display_data",
          "data": {
            "image/png": "[encoded data removed]",
            "text/plain": [
              "<Figure size 360x360 with 1 Axes>"
            ]
          },
          "metadata": {
            "needs_background": "light"
          }
        }
      ]
    },
    {
      "cell_type": "code",
      "metadata": {
        "id": "9AXOC_QSNc8c"
      },
      "source": [
        "sns.pairplot(engineering_df);"
      ],
      "execution_count": null,
      "outputs": []
    }
  ]
}